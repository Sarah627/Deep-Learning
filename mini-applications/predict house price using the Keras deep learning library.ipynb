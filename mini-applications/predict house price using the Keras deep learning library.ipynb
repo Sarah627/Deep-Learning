{
  "cells": [
    {
      "cell_type": "code",
      "execution_count": 1,
      "metadata": {
        "id": "daMYwxaT9oiq"
      },
      "outputs": [],
      "source": [
        "import numpy as np\n",
        "import pandas as pd\n",
        "#matplot for visualization\n",
        "import matplotlib.pyplot as plt\n",
        "%matplotlib inline\n",
        "#applying the deep learning using neural networks from keras library\n",
        "from keras import models\n",
        "from keras.models import Sequential\n",
        "from keras import layers\n",
        "from keras.layers import Dense\n",
        "import tensorflow as tf"
      ]
    },
    {
      "cell_type": "code",
      "execution_count": 2,
      "metadata": {
        "colab": {
          "base_uri": "https://localhost:8080/"
        },
        "id": "ZBLkPTcbeUEf",
        "outputId": "0bcf3bd3-7010-4d9d-fc13-1ec9cfd4bdf4"
      },
      "outputs": [
        {
          "name": "stdout",
          "output_type": "stream",
          "text": [
            "Downloading data from https://storage.googleapis.com/tensorflow/tf-keras-datasets/boston_housing.npz\n",
            "\u001b[1m57026/57026\u001b[0m \u001b[32m━━━━━━━━━━━━━━━━━━━━\u001b[0m\u001b[37m\u001b[0m \u001b[1m0s\u001b[0m 4us/step\n"
          ]
        }
      ],
      "source": [
        "(x_train, y_train), (x_test, y_test) = tf.keras.datasets.boston_housing.load_data(path=\"boston_housing.npz\", test_split=0.2, seed=113) #loading the dataset"
      ]
    },
    {
      "cell_type": "code",
      "execution_count": 3,
      "metadata": {
        "colab": {
          "base_uri": "https://localhost:8080/"
        },
        "id": "B0MpcCWW_HX1",
        "outputId": "c2b2d651-5941-4b0d-dbb1-e2e8074f9bcc"
      },
      "outputs": [
        {
          "name": "stdout",
          "output_type": "stream",
          "text": [
            "(404, 13) (102, 13) (404,) (102,)\n"
          ]
        }
      ],
      "source": [
        "print(x_train.shape,x_test.shape, y_train.shape, y_test.shape)"
      ]
    },
    {
      "cell_type": "code",
      "execution_count": 4,
      "metadata": {
        "id": "JVzKrPu__Ip6"
      },
      "outputs": [],
      "source": [
        "#data preparation - feature normalization\n",
        "mean = x_train.mean(axis=0)\n",
        "x_train -= mean\n",
        "std = x_train.std(axis=0)\n",
        "x_train /= std\n",
        "x_test -= mean\n",
        "x_test /= std"
      ]
    },
    {
      "cell_type": "code",
      "execution_count": 5,
      "metadata": {
        "id": "gHvICRnZ_UEu"
      },
      "outputs": [],
      "source": [
        "#building the model : 2 hidden leayer with 64 neurons and one output layer with one neuron\n",
        "def build_model():\n",
        "    model = models.Sequential()\n",
        "    model.add(layers.Dense(64, activation='relu', input_shape=(x_train.shape[1],)))\n",
        "    model.add(layers.Dense(64, activation='relu'))\n",
        "    model.add(layers.Dense(1))\n",
        "    # using mean square error function as loss function, and mean absolute error as our metric\n",
        "    model.compile(optimizer='rmsprop',\n",
        "              loss='mse',\n",
        "              metrics=['mae'])\n",
        "    return model"
      ]
    },
    {
      "cell_type": "code",
      "execution_count": 6,
      "metadata": {
        "id": "31ahv5XbAHyz"
      },
      "outputs": [
        {
          "name": "stderr",
          "output_type": "stream",
          "text": [
            "c:\\Users\\workstation\\anaconda3\\Lib\\site-packages\\keras\\src\\layers\\core\\dense.py:85: UserWarning: Do not pass an `input_shape`/`input_dim` argument to a layer. When using Sequential models, prefer using an `Input(shape)` object as the first layer in the model instead.\n",
            "  super().__init__(activity_regularizer=activity_regularizer, **kwargs)\n"
          ]
        }
      ],
      "source": [
        "model = build_model()"
      ]
    },
    {
      "cell_type": "code",
      "execution_count": 7,
      "metadata": {
        "id": "vN6snLip_loB"
      },
      "outputs": [],
      "source": [
        "history = model.fit(x_train,\n",
        "                    y_train,\n",
        "                    batch_size=16,\n",
        "                    epochs=80,\n",
        "                    verbose = 0)\n"
      ]
    },
    {
      "cell_type": "code",
      "execution_count": 8,
      "metadata": {
        "colab": {
          "base_uri": "https://localhost:8080/"
        },
        "id": "eNe79C83Aoyc",
        "outputId": "142fefd9-ddf4-42f9-9bb2-d27bf4a76659"
      },
      "outputs": [
        {
          "name": "stdout",
          "output_type": "stream",
          "text": [
            "\u001b[1m4/4\u001b[0m \u001b[32m━━━━━━━━━━━━━━━━━━━━\u001b[0m\u001b[37m\u001b[0m \u001b[1m0s\u001b[0m 4ms/step - loss: 21.0690 - mae: 2.7385 \n"
          ]
        }
      ],
      "source": [
        "test_mse_score, test_mae_score = model.evaluate(x_test, y_test)"
      ]
    },
    {
      "cell_type": "code",
      "execution_count": 9,
      "metadata": {
        "colab": {
          "base_uri": "https://localhost:8080/"
        },
        "id": "BrWvJ_tWBmmo",
        "outputId": "ca60dd46-69a5-4402-b273-2319997aeebe"
      },
      "outputs": [
        {
          "data": {
            "text/plain": [
              "3.3965811729431152"
            ]
          },
          "execution_count": 9,
          "metadata": {},
          "output_type": "execute_result"
        }
      ],
      "source": [
        "test_mae_score"
      ]
    },
    {
      "cell_type": "code",
      "execution_count": 10,
      "metadata": {
        "colab": {
          "base_uri": "https://localhost:8080/",
          "height": 295
        },
        "id": "Xk7QQXLpBrlz",
        "outputId": "099aec69-f5d5-4ad6-dcdc-4b2f6553e43d"
      },
      "outputs": [
        {
          "data": {
            "image/png": "[encoded data removed]",
            "text/plain": [
              "<Figure size 640x480 with 1 Axes>"
            ]
          },
          "metadata": {},
          "output_type": "display_data"
        }
      ],
      "source": [
        "#visualizing the training loss\n",
        "plt.plot(history.history['loss'])\n",
        "plt.plot(history.history['mae'])\n",
        "plt.title('Model loss')\n",
        "plt.ylabel('Loss')\n",
        "plt.xlabel('Epoch')\n",
        "plt.legend(['Train', 'Val'], loc='upper right')\n",
        "plt.show()"
      ]
    }
  ],
  "metadata": {
    "colab": {
      "provenance": []
    },
    "kernelspec": {
      "display_name": "Python 3",
      "name": "python3"
    },
    "language_info": {
      "codemirror_mode": {
        "name": "ipython",
        "version": 3
      },
      "file_extension": ".py",
      "mimetype": "text/x-python",
      "name": "python",
      "nbconvert_exporter": "python",
      "pygments_lexer": "ipython3",
      "version": "3.11.5"
    }
  },
  "nbformat": 4,
  "nbformat_minor": 0
}
