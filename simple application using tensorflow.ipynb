{
 "cells": [
  {
   "cell_type": "code",
   "execution_count": 10,
   "metadata": {},
   "outputs": [],
   "source": [
    "import tensorflow as tf\n",
    "import numpy as np\n"
   ]
  },
  {
   "cell_type": "markdown",
   "metadata": {},
   "source": [
    "\n",
    "### Performing Simple cost function minimization using tensorflow\n",
    "\n",
    "- our cost function **j(w) = w^2 - 10w + 25**\n",
    "\n",
    "- we are going to use tensorflow for this mission\n",
    "\n",
    "- **Variable** module in tensorflow to define a variable; initialize it with a value and specify its datatype\n",
    "\n",
    "- then you import the optimizer from keras in tensorflow, here we are going to use **Adam** optimizer, and specify its learning rate value\n",
    "\n",
    "- **GradientTape** idea is like old school gradient tape which stores values, here we are going to store the values of the forward prop, then this GradientTape function is going to (*reverse*) the tape to compute backprop for us"
   ]
  },
  {
   "cell_type": "code",
   "execution_count": 11,
   "metadata": {},
   "outputs": [
    {
     "name": "stdout",
     "output_type": "stream",
     "text": [
      "<tf.Variable 'Variable:0' shape=() dtype=float32, numpy=0.0>\n"
     ]
    }
   ],
   "source": [
    "w = tf.Variable(0,dtype=tf.float32)\n",
    "optimizer = tf.keras.optimizers.Adam(0.1)\n",
    "def train_step():\n",
    "    with tf.GradientTape( ) as tape:\n",
    "        cost = w**2 - 10 * w + 25\n",
    "    trainable_variables = [w]\n",
    "    gradient = tape.gradient(cost,trainable_variables)\n",
    "    optimizer.apply_gradients(zip(gradient,trainable_variables))\n",
    "print(w)"
   ]
  },
  {
   "cell_type": "code",
   "execution_count": 12,
   "metadata": {},
   "outputs": [
    {
     "name": "stdout",
     "output_type": "stream",
     "text": [
      "<tf.Variable 'Variable:0' shape=() dtype=float32, numpy=0.09999931>\n"
     ]
    }
   ],
   "source": [
    "train_step()\n",
    "print(w)"
   ]
  },
  {
   "cell_type": "code",
   "execution_count": 13,
   "metadata": {},
   "outputs": [
    {
     "name": "stdout",
     "output_type": "stream",
     "text": [
      "<tf.Variable 'Variable:0' shape=() dtype=float32, numpy=5.000001>\n"
     ]
    }
   ],
   "source": [
    "for i in range(1000):\n",
    "    train_step()\n",
    "print(w)"
   ]
  },
  {
   "cell_type": "code",
   "execution_count": 23,
   "metadata": {},
   "outputs": [],
   "source": [
    "import keras.optimizers"
   ]
  },
  {
   "cell_type": "code",
   "execution_count": null,
   "metadata": {},
   "outputs": [],
   "source": [
    "w = tf.Variable(0,dtype=tf.float32)\n",
    "x = np.array([1.0,-10.0,25.0],dtype=np.float32)\n",
    "optimizer = tf.keras.optimizers.Adam(0.1)\n",
    "def training(x, w, optimizer):\n",
    "    def cost_function():\n",
    "        #the coefficients of the cost function is controlled by x\n",
    "        return x[0] * w**2 - x[1] * w + x[2]\n",
    "    for i in range(1000):\n",
    "        optimizer.minimize(cost_function,[w])\n",
    "    return w\n",
    "w = training(x,w,optimizer)\n",
    "print(w) "
   ]
  }
 ],
 "metadata": {
  "kernelspec": {
   "display_name": "base",
   "language": "python",
   "name": "python3"
  },
  "language_info": {
   "codemirror_mode": {
    "name": "ipython",
    "version": 3
   },
   "file_extension": ".py",
   "mimetype": "text/x-python",
   "name": "python",
   "nbconvert_exporter": "python",
   "pygments_lexer": "ipython3",
   "version": "3.11.5"
  }
 },
 "nbformat": 4,
 "nbformat_minor": 2
}
